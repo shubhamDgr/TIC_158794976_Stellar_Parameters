{
 "cells": [
  {
   "cell_type": "code",
   "execution_count": 9,
   "metadata": {},
   "outputs": [],
   "source": [
    "import numpy as np\n",
    "import astropy.units as u"
   ]
  },
  {
   "cell_type": "markdown",
   "metadata": {},
   "source": [
    "Semi- major axis can be found using the following parameters :"
   ]
  },
  {
   "cell_type": "code",
   "execution_count": 10,
   "metadata": {},
   "outputs": [],
   "source": [
    "k1 = (24.015)  # semi amplitude of RV in km/s\n",
    "q = (0.1)  # mass ratio\n",
    "i = (58.59)  #inclination of the orbital plane\n",
    "P = (6.6528 * (10**4))   #orbital period in seconds"
   ]
  },
  {
   "cell_type": "markdown",
   "metadata": {},
   "source": [
    "Here, K1 and P was calculated previously, whereas the q and i values were referenced from Gajdoš et al."
   ]
  },
  {
   "cell_type": "code",
   "execution_count": 11,
   "metadata": {},
   "outputs": [
    {
     "name": "stdout",
     "output_type": "stream",
     "text": [
      "Semi major axis of the system is 3138076.785486924 km\n"
     ]
    }
   ],
   "source": [
    "a = k1*P*(q+1)/(2*(np.pi)*q*(np.sin(i)))  * u.kilometer # unit = km\n",
    "print(f\"Semi major axis of the system is {a}\")"
   ]
  },
  {
   "cell_type": "code",
   "execution_count": 12,
   "metadata": {},
   "outputs": [
    {
     "data": {
      "text/latex": [
       "$4.5106753 \\; \\mathrm{R_{\\odot}}$"
      ],
      "text/plain": [
       "<Quantity 4.51067527 solRad>"
      ]
     },
     "execution_count": 12,
     "metadata": {},
     "output_type": "execute_result"
    }
   ],
   "source": [
    "a_solar_units = a.to(u.R_sun) \n",
    "a_solar_units"
   ]
  },
  {
   "cell_type": "markdown",
   "metadata": {},
   "source": [
    "In terms of solar radius, Semi- major axis of the system is 4.5106753 R☉. \n",
    "\n"
   ]
  },
  {
   "cell_type": "markdown",
   "metadata": {},
   "source": [
    "This value is fairly close to the value (4.189 R☉) predicted by Gajdoš et al, considering the approximations in the RV modelling, as we averaged over velocity range instead of RV curve fitting. "
   ]
  }
 ],
 "metadata": {
  "kernelspec": {
   "display_name": "eclipsing_binary",
   "language": "python",
   "name": "python3"
  },
  "language_info": {
   "codemirror_mode": {
    "name": "ipython",
    "version": 3
   },
   "file_extension": ".py",
   "mimetype": "text/x-python",
   "name": "python",
   "nbconvert_exporter": "python",
   "pygments_lexer": "ipython3",
   "version": "3.9.20"
  }
 },
 "nbformat": 4,
 "nbformat_minor": 2
}
