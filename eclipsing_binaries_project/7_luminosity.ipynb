{
 "cells": [
  {
   "cell_type": "code",
   "execution_count": 19,
   "metadata": {},
   "outputs": [],
   "source": [
    "import scipy.constants as cnst\n",
    "import astropy.units as u\n",
    "import numpy as np"
   ]
  },
  {
   "cell_type": "code",
   "execution_count": 20,
   "metadata": {},
   "outputs": [],
   "source": [
    "sigma = cnst.Stefan_Boltzmann\n",
    "sigma = sigma * u.watt *u.meter**-2 *u.Kelvin**-4"
   ]
  },
  {
   "cell_type": "code",
   "execution_count": 21,
   "metadata": {},
   "outputs": [],
   "source": [
    "R1 = 2.2 * u.R_sun\n",
    "R2 = 0.9 * u.R_sun"
   ]
  },
  {
   "cell_type": "code",
   "execution_count": 22,
   "metadata": {},
   "outputs": [],
   "source": [
    "R1_meter = R1.to(u.meter)\n",
    "R2_meter = R2.to(u.meter)"
   ]
  },
  {
   "cell_type": "code",
   "execution_count": 23,
   "metadata": {},
   "outputs": [],
   "source": [
    "T1 = 7461 * u.Kelvin\n",
    "T2 = 6411 * u.Kelvin"
   ]
  },
  {
   "cell_type": "code",
   "execution_count": 24,
   "metadata": {},
   "outputs": [],
   "source": [
    "def luminosity(R,T):\n",
    "    return 4*np.pi *sigma* u.watt*(R**2)*(T**4)"
   ]
  },
  {
   "cell_type": "code",
   "execution_count": 25,
   "metadata": {},
   "outputs": [],
   "source": [
    "solar_luminosity = 3.8 * 10**26 * u.watt"
   ]
  },
  {
   "cell_type": "code",
   "execution_count": 26,
   "metadata": {},
   "outputs": [
    {
     "name": "stdout",
     "output_type": "stream",
     "text": [
      "13.6117991545095 W\n",
      "1.2418528466291654 W\n"
     ]
    }
   ],
   "source": [
    "print(luminosity(R1_meter,T1)/solar_luminosity)\n",
    "print(luminosity(R2_meter,T2)/solar_luminosity)\n"
   ]
  },
  {
   "cell_type": "markdown",
   "metadata": {},
   "source": [
    "As per Gajdoš et al, Luminosities were found out to be:\n",
    "\n",
    "L1 = 13.2 L☉\n",
    "\n",
    "L2 = 1.2 L☉"
   ]
  },
  {
   "cell_type": "code",
   "execution_count": 27,
   "metadata": {},
   "outputs": [
    {
     "data": {
      "text/latex": [
       "$14.853652 \\; \\mathrm{W}$"
      ],
      "text/plain": [
       "<Quantity 14.853652 W>"
      ]
     },
     "execution_count": 27,
     "metadata": {},
     "output_type": "execute_result"
    }
   ],
   "source": [
    "total_luminosity = luminosity(R1_meter,T1)/solar_luminosity + luminosity(R2_meter,T2)/solar_luminosity\n",
    "total_luminosity"
   ]
  },
  {
   "cell_type": "markdown",
   "metadata": {},
   "source": [
    "This means the object is almost 15 times more luminous than sun."
   ]
  }
 ],
 "metadata": {
  "kernelspec": {
   "display_name": "eclipsing_binary",
   "language": "python",
   "name": "python3"
  },
  "language_info": {
   "codemirror_mode": {
    "name": "ipython",
    "version": 3
   },
   "file_extension": ".py",
   "mimetype": "text/x-python",
   "name": "python",
   "nbconvert_exporter": "python",
   "pygments_lexer": "ipython3",
   "version": "3.9.20"
  }
 },
 "nbformat": 4,
 "nbformat_minor": 2
}
