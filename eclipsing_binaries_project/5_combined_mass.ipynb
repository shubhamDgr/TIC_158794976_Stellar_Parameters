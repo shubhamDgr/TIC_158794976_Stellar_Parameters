{
 "cells": [
  {
   "cell_type": "code",
   "execution_count": 11,
   "metadata": {},
   "outputs": [],
   "source": [
    "import astropy.constants as cnst\n",
    "import astropy.units as u\n",
    "import numpy as np"
   ]
  },
  {
   "cell_type": "code",
   "execution_count": 12,
   "metadata": {},
   "outputs": [],
   "source": [
    "a = 3138076.785486924 * u.kilometer # calculated previously\n",
    "P = (6.6528 * (10**4)) * u.second"
   ]
  },
  {
   "cell_type": "code",
   "execution_count": 13,
   "metadata": {},
   "outputs": [
    {
     "data": {
      "text/latex": [
       "$6.6743 \\times 10^{-20} \\; \\mathrm{\\frac{km^{3}}{kg\\,s^{2}}}$"
      ],
      "text/plain": [
       "<Quantity 6.6743e-20 km3 / (kg s2)>"
      ]
     },
     "execution_count": 13,
     "metadata": {},
     "output_type": "execute_result"
    }
   ],
   "source": [
    "G = cnst.G                                             # in m^3 /kg.s^2  \n",
    "G = G.to(u.kilometer**3/(u.kilogram * u.second**2 ))   # in km^3 /kg.s^2 \n",
    "G"
   ]
  },
  {
   "cell_type": "code",
   "execution_count": 14,
   "metadata": {},
   "outputs": [
    {
     "name": "stdout",
     "output_type": "stream",
     "text": [
      "Combined mass of the system is 4.129864246368262e+30 kg\n"
     ]
    }
   ],
   "source": [
    "def combined_mass_of_system():\n",
    "    return 4*(np.pi**2)*a**3/(G*(P**2))\n",
    "print(f\"Combined mass of the system is {combined_mass_of_system()}\")"
   ]
  },
  {
   "cell_type": "code",
   "execution_count": 15,
   "metadata": {},
   "outputs": [
    {
     "data": {
      "text/latex": [
       "$2.0769683 \\; \\mathrm{M_{\\odot}}$"
      ],
      "text/plain": [
       "<Quantity 2.07696829 solMass>"
      ]
     },
     "execution_count": 15,
     "metadata": {},
     "output_type": "execute_result"
    }
   ],
   "source": [
    "combined_mass_solar_units = combined_mass_of_system().to(u.M_sun)\n",
    "combined_mass_solar_units"
   ]
  },
  {
   "cell_type": "markdown",
   "metadata": {},
   "source": [
    "As per Gajdoš et al, the combined mass comes out to be: \n",
    "\n",
    "= 1.8 M☉ + 0.2 M☉\n",
    "\n",
    "= 2 M☉\n",
    "\n",
    "=3.978* 10^30 kg"
   ]
  }
 ],
 "metadata": {
  "kernelspec": {
   "display_name": "eclipsing_binary",
   "language": "python",
   "name": "python3"
  },
  "language_info": {
   "codemirror_mode": {
    "name": "ipython",
    "version": 3
   },
   "file_extension": ".py",
   "mimetype": "text/x-python",
   "name": "python",
   "nbconvert_exporter": "python",
   "pygments_lexer": "ipython3",
   "version": "3.9.20"
  }
 },
 "nbformat": 4,
 "nbformat_minor": 2
}
